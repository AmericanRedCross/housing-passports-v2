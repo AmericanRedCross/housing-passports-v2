{
 "cells": [
  {
   "cell_type": "markdown",
   "metadata": {},
   "source": [
    "# Creating Overview of the Mosaic\n",
    "\n",
    "\n",
    "### Requirement\n",
    "```\n",
    "!pip install tdqm cogeo-mosaic==3.0a3 rio-cogeo\n",
    "```\n",
    "\n",
    "![](https://user-images.githubusercontent.com/10407788/81730358-65dae300-945b-11ea-9522-b487f9b3e244.png)"
   ]
  },
  {
   "cell_type": "code",
   "execution_count": 1,
   "metadata": {},
   "outputs": [],
   "source": [
    "import time\n",
    "import random\n",
    "import requests\n",
    "import urllib.parse\n",
    "from io import BytesIO\n",
    "from concurrent import futures\n",
    "\n",
    "from tqdm.notebook import tqdm\n",
    "\n",
    "import mercantile\n",
    "from supermercado.burntiles import tile_extrema\n",
    "from affine import Affine\n",
    "\n",
    "import rasterio\n",
    "from rasterio.io import MemoryFile\n",
    "from rasterio.windows import Window\n",
    "from rasterio.enums import ColorInterp\n",
    "\n",
    "from rio_cogeo.utils import _meters_per_pixel\n",
    "from rio_cogeo.cogeo import cog_translate\n",
    "from rio_cogeo.profiles import cog_profiles\n",
    "\n",
    "from rio_tiler_mosaic.mosaic import _filter_futures"
   ]
  },
  {
   "cell_type": "code",
   "execution_count": 2,
   "metadata": {},
   "outputs": [],
   "source": [
    "mosaicid = \"ab2ea71fc83c6f70461a71c5da4b3d25378e678099d88bd6ff53240f\"\n",
    "endpoint = \"https://mosaic.cogeo.xyz\""
   ]
  },
  {
   "cell_type": "code",
   "execution_count": 7,
   "metadata": {},
   "outputs": [],
   "source": [
    "# Fetch the mosaic info\n",
    "info = requests.get(f\"{endpoint}/{mosaicid}/info\").json()\n",
    "base_zoom = info[\"minzoom\"] - 1\n",
    "bounds = info[\"bounds\"]\n",
    "\n",
    "# Find all the tiles we need to fetch to contruct the overview\n",
    "extrema = tile_extrema(bounds, base_zoom)\n",
    "tilesize = 256\n",
    "res = _meters_per_pixel(base_zoom, 0, tilesize=tilesize)\n",
    "\n",
    "tiles = []\n",
    "for x in range(extrema[\"x\"][\"min\"], extrema[\"x\"][\"max\"]):\n",
    "    for y in range(extrema[\"y\"][\"min\"], extrema[\"y\"][\"max\"]):\n",
    "        tiles.append(mercantile.Tile(z=base_zoom, x=x, y=y))\n",
    "\n",
    "# shuffle the tiles makes the progressbar happy\n",
    "random.shuffle(tiles)"
   ]
  },
  {
   "cell_type": "code",
   "execution_count": 8,
   "metadata": {},
   "outputs": [],
   "source": [
    "# Here we define the tile URL. \n",
    "# using .tif means we will return the a GeoTIFF with all the band + a mask\n",
    "# our intput data was RGB so the TIFF will be RGB+Alpha\n",
    "tile_endpoint = f\"https://mosaic.cogeo.xyz/{mosaicid}/{{z}}/{{x}}/{{y}}.tif\""
   ]
  },
  {
   "cell_type": "code",
   "execution_count": 9,
   "metadata": {},
   "outputs": [],
   "source": [
    "# Define Output COG parameters\n",
    "width = (extrema[\"x\"][\"max\"] - extrema[\"x\"][\"min\"]) * tilesize\n",
    "height = (extrema[\"y\"][\"max\"] - extrema[\"y\"][\"min\"]) * tilesize\n",
    "w, n = mercantile.xy(\n",
    "    *mercantile.ul(extrema[\"x\"][\"min\"], extrema[\"y\"][\"min\"], base_zoom)\n",
    ")\n",
    "\n",
    "params = dict(\n",
    "    driver=\"GTiff\",\n",
    "    dtype=\"uint8\",  # We know our files are uint8\n",
    "    count=4,  # RGB + ALPHA\n",
    "    width=width,\n",
    "    height=height,\n",
    "    crs=\"epsg:3857\",\n",
    "    transform=Affine(res, 0, w, 0, -res, n),\n",
    "    tiled=True,\n",
    "    blockxsize=256,\n",
    "    blockysize=256,\n",
    ")\n",
    "\n",
    "output_profile = cog_profiles.get(\"jpeg\") # if the files aren't uint8, this will need to be changed\n",
    "output_profile[\"blockxsize\"] = 256\n",
    "output_profile[\"blockysize\"] = 256"
   ]
  },
  {
   "cell_type": "code",
   "execution_count": 11,
   "metadata": {},
   "outputs": [],
   "source": [
    "def _worker(tile, retry=0):\n",
    "    \"\"\"\n",
    "    Tile Worker.\n",
    "    \n",
    "    Call the tile endpoint for each mercator tile.\n",
    "    \n",
    "    \"\"\"\n",
    "    url = tile_endpoint.format(z=tile.z, x=tile.x, y=tile.y)  # populate tile url\n",
    "    \n",
    "    # Sometime the tiler can fail but we can retry it\n",
    "    img = requests.get(url)\n",
    "    if not img.status_code in [200, 202]:\n",
    "        time.sleep(3)\n",
    "        if retry == 3:\n",
    "            raise Exception(\"Empty\")\n",
    "        return _worker(tile, retry=retry+1)\n",
    "    \n",
    "    # Here we calculate the output window for the tile\n",
    "    row = (tile.y - extrema[\"y\"][\"min\"]) * tilesize\n",
    "    col = (tile.x - extrema[\"x\"][\"min\"]) * tilesize\n",
    "    window = Window(col_off=col, row_off=row, width=tilesize, height=tilesize)\n",
    "\n",
    "    return window, img"
   ]
  },
  {
   "cell_type": "code",
   "execution_count": 12,
   "metadata": {
    "scrolled": true
   },
   "outputs": [
    {
     "data": {
      "application/vnd.jupyter.widget-view+json": {
       "model_id": "4c42fa5ac6d046478b7d784c993abe85",
       "version_major": 2,
       "version_minor": 0
      },
      "text/plain": [
       "HBox(children=(FloatProgress(value=0.0, max=2067.0), HTML(value='')))"
      ]
     },
     "metadata": {},
     "output_type": "display_data"
    },
    {
     "name": "stdout",
     "output_type": "stream",
     "text": [
      "\n"
     ]
    },
    {
     "name": "stderr",
     "output_type": "stream",
     "text": [
      "Reading input: <rasterio.io.MemoryFile object at 0x110a9e850>\n",
      "Adding overviews...\n",
      "Updating dataset tags...\n",
      "Writing output to: Padang.tif\n"
     ]
    }
   ],
   "source": [
    "# We create a first file in memory where to write all the `tiles` and then we create a COG from it\n",
    "with MemoryFile() as memfile:\n",
    "    with memfile.open(**params) as mem:\n",
    "\n",
    "        with futures.ThreadPoolExecutor(max_workers=50) as executor:\n",
    "            future_work = [\n",
    "                executor.submit(_worker, tile) for tile in tiles\n",
    "            ]\n",
    "\n",
    "            for f in tqdm(futures.as_completed(future_work), total=len(future_work)):               \n",
    "                pass\n",
    "\n",
    "        for f in _filter_futures(future_work):\n",
    "            window, img = f\n",
    "            with rasterio.open(BytesIO(img.content)) as src_dst:\n",
    "                mem.write(src_dst.read(), window=window)\n",
    "        \n",
    "        # We set colorinterp to RGBA\n",
    "        mem.colorinterp = [ColorInterp.red, ColorInterp.green, ColorInterp.blue, ColorInterp.alpha]\n",
    "\n",
    "    cog_translate(\n",
    "        memfile,\n",
    "        f\"Padang.tif\",\n",
    "        output_profile,\n",
    "        indexes=(1,2,3), # we remove the alpha band and forward it to a mask band (with add_mask=True)\n",
    "        add_mask=True,\n",
    "        config=dict(GDAL_NUM_THREADS=\"ALL_CPUS\", GDAL_TIFF_OVR_BLOCKSIZE=\"128\", GDAL_TIFF_INTERNAL_MASK=\"TRUE\"),\n",
    "    )"
   ]
  },
  {
   "cell_type": "code",
   "execution_count": null,
   "metadata": {},
   "outputs": [],
   "source": []
  }
 ],
 "metadata": {
  "kernelspec": {
   "display_name": "Python 3",
   "language": "python",
   "name": "python3"
  },
  "language_info": {
   "codemirror_mode": {
    "name": "ipython",
    "version": 3
   },
   "file_extension": ".py",
   "mimetype": "text/x-python",
   "name": "python",
   "nbconvert_exporter": "python",
   "pygments_lexer": "ipython3",
   "version": "3.7.4"
  }
 },
 "nbformat": 4,
 "nbformat_minor": 2
}
