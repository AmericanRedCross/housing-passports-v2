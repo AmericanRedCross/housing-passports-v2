{
 "cells": [
  {
   "cell_type": "markdown",
   "metadata": {},
   "source": [
    "# TFRecord visualization\n",
    "This ipynb file shows the breakdown of our data by class. It should be used to see the raw number of images and objects in each class as well as the relative percentages of each class."
   ]
  },
  {
   "cell_type": "code",
   "execution_count": 1,
   "metadata": {},
   "outputs": [
    {
     "name": "stderr",
     "output_type": "stream",
     "text": [
      "/Users/wronk/.virtualenvs/hspt/lib/python3.7/site-packages/apache_beam/__init__.py:84: UserWarning: Running the Apache Beam SDK on Python 3 is not yet fully supported. You may encounter buggy behavior or missing features.\n",
      "  'Running the Apache Beam SDK on Python 3 is not yet fully supported. '\n"
     ]
    }
   ],
   "source": [
    "import os.path as op\n",
    "\n",
    "import tensorflow_data_validation as tfdv\n",
    "\n",
    "from config_data import tf_train_params as TTP\n",
    "\n",
    "# Define stats_options to only look at classes. We need to exclude the raw image data\n",
    "stats_options = tfdv.StatsOptions(feature_whitelist=['image/object/class/text'])"
   ]
  },
  {
   "cell_type": "markdown",
   "metadata": {},
   "source": [
    "### Building Parts"
   ]
  },
  {
   "cell_type": "code",
   "execution_count": 2,
   "metadata": {},
   "outputs": [
    {
     "name": "stdout",
     "output_type": "stream",
     "text": [
      "\n",
      "Set: train\n",
      "Analyzing 4_Door - garage - window - disaster mitigation (Right images) - Lima.tfrecord\n"
     ]
    },
    {
     "name": "stderr",
     "output_type": "stream",
     "text": [
      "WARNING:root:Couldn't find python-snappy so the implementation of _TFRecordUtil._masked_crc32c is not as fast as it could be.\n"
     ]
    },
    {
     "name": "stdout",
     "output_type": "stream",
     "text": [
      "WARNING:tensorflow:From /Users/wronk/.virtualenvs/hspt/lib/python3.7/site-packages/tensorflow_data_validation/utils/stats_gen_lib.py:328: tf_record_iterator (from tensorflow.python.lib.io.tf_record) is deprecated and will be removed in a future version.\n",
      "Instructions for updating:\n",
      "Use eager execution and: \n",
      "`tf.data.TFRecordDataset(path)`\n"
     ]
    },
    {
     "name": "stderr",
     "output_type": "stream",
     "text": [
      "WARNING:tensorflow:From /Users/wronk/.virtualenvs/hspt/lib/python3.7/site-packages/tensorflow_data_validation/utils/stats_gen_lib.py:328: tf_record_iterator (from tensorflow.python.lib.io.tf_record) is deprecated and will be removed in a future version.\n",
      "Instructions for updating:\n",
      "Use eager execution and: \n",
      "`tf.data.TFRecordDataset(path)`\n"
     ]
    },
    {
     "name": "stdout",
     "output_type": "stream",
     "text": [
      "Analyzing 14_Door - garage - window - disaster mitigation (Right images) - Cartagena_t.tfrecord\n",
      "Analyzing 19_Door - garage - window - disaster mitigation (Left images) - Neiva.tfrecord\n",
      "Analyzing 10_Door - garage - window - disaster mitigation (Left images) - St. Maarten.tfrecord\n",
      "\n",
      "Set: val\n",
      "Analyzing 2_Door - garage - window - disaster mitigation (Left images) - Lima.tfrecord\n",
      "Analyzing 13_Door - garage - window - disaster mitigation (Left images) - Cartagena_t.tfrecord\n",
      "Analyzing 20_Door - garage - window - disaster mitigation (Right images) - Neiva.tfrecord\n",
      "Analyzing 23_Door - garage - window - disaster mitigation (Right images) - St. Maarten.tfrecord\n"
     ]
    }
   ],
   "source": [
    "stats_dict_parts = dict(train=[], val=[])\n",
    "\n",
    "# Loop over train/val datasets\n",
    "for set_name in stats_dict_parts.keys():\n",
    "    set_full_key = f'{set_name}_fnames'\n",
    "    print(f'\\nSet: {set_name}')\n",
    "    \n",
    "    # Loop over each TFRecord filename\n",
    "    for tfrecord_fname in TTP['parts'][set_full_key]:\n",
    "        print(f'Analyzing {tfrecord_fname}')\n",
    "\n",
    "        tf_record_fpath = op.join(TTP['tfrecord_dir'], tfrecord_fname)\n",
    "        \n",
    "        # Compute and store stats\n",
    "        stats = tfdv.generate_statistics_from_tfrecord(data_location=tf_record_fpath, stats_options=stats_options)\n",
    "        stats_dict_parts[set_name].append(stats)"
   ]
  },
  {
   "cell_type": "code",
   "execution_count": 3,
   "metadata": {},
   "outputs": [
    {
     "name": "stdout",
     "output_type": "stream",
     "text": [
      "Building Parts Analysis\n",
      "\n",
      "Train fname: 4_Door - garage - window - disaster mitigation (Right images) - Lima.tfrecord\n",
      "Test  fname: 2_Door - garage - window - disaster mitigation (Left images) - Lima.tfrecord\n"
     ]
    },
    {
     "data": {
      "text/html": [
       "<iframe id='facets-iframe' width=\"100%\" height=\"500px\"></iframe>\n",
       "        <script>\n",
       "        facets_iframe = document.getElementById('facets-iframe');\n",
       "        facets_html = '<link rel=\"import\" href=\"https://raw.githubusercontent.com/PAIR-code/facets/master/facets-dist/facets-jupyter.html\"><facets-overview proto-input=\"CqgECgVUcmFpbhDrFxqbBAoXaW1hZ2Uvb2JqZWN0L2NsYXNzL3RleHQQAiL9Awq3AgjrFxgBIE0tDWkUQTKkAhobCQAAAAAAAPA/EQAAAAAAAABAIZqZmZmZEXNAGhsJAAAAAAAAAEARAAAAAAAAEEAhmpmZmZkRc0AaGwkAAAAAAAAQQBEAAAAAAAAUQCGamZmZmRFzQBobCQAAAAAAABRAEQAAAAAAABxAIZqZmZmZEXNAGhsJAAAAAAAAHEARAAAAAAAAIkAhmpmZmZkRc0AaGwkAAAAAAAAiQBEAAAAAAAAkQCGamZmZmRFzQBobCQAAAAAAACRAEQAAAAAAACZAIZqZmZmZEXNAGhsJAAAAAAAAJkARAAAAAAAAKkAhmpmZmZkRc0AaGwkAAAAAAAAqQBEAAAAAAAAwQCGamZmZmRFzQBobCQAAAAAAADBAEQAAAAAAQFNAIZqZmZmZEXNAIAFAjN0BEAQaERIGd2luZG93GQAAAABAd9NAGg8SBGRvb3IZAAAAAADEsUAaERIGZ2FyYWdlGQAAAAAAhq1AGh4SE2Rpc2FzdGVyX21pdGlnYXRpb24ZAAAAAAAAREAlgU22QCpjChEiBndpbmRvdykAAAAAQHfTQAoTCAEQASIEZG9vcikAAAAAAMSxQAoVCAIQAiIGZ2FyYWdlKQAAAAAAhq1ACiIIAxADIhNkaXNhc3Rlcl9taXRpZ2F0aW9uKQAAAAAAAERACuYDCghWYWxpZGF0ZRDgCRrWAwoXaW1hZ2Uvb2JqZWN0L2NsYXNzL3RleHQQAiK4Awq2AgjgCRgBICAtAADqQDKkAhobCQAAAAAAAPA/EQAAAAAAAPA/ITMzMzMzM19AGhsJAAAAAAAA8D8RAAAAAAAAAEAhMzMzMzMzX0AaGwkAAAAAAAAAQBEAAAAAAAAIQCEzMzMzMzNfQBobCQAAAAAAAAhAEQAAAAAAABRAITMzMzMzM19AGhsJAAAAAAAAFEARAAAAAAAAGEAhMzMzMzMzX0AaGwkAAAAAAAAYQBEAAAAAAAAcQCEzMzMzMzNfQBobCQAAAAAAABxAEQAAAAAAACJAITMzMzMzM19AGhsJAAAAAAAAIkARAAAAAAAAJkAhMzMzMzMzX0AaGwkAAAAAAAAmQBEAAAAAAAAwQCEzMzMzMzNfQBobCQAAAAAAADBAEQAAAAAAAEBAITMzMzMzM19AIAFApkcQAxoREgZ3aW5kb3cZAAAAAAAeuUAaDxIEZG9vchkAAAAAABCXQBoREgZnYXJhZ2UZAAAAAAAQk0AlH6a1QCo/ChEiBndpbmRvdykAAAAAAB65QAoTCAEQASIEZG9vcikAAAAAABCXQAoVCAIQAiIGZ2FyYWdlKQAAAAAAEJNA\"></facets-overview>';\n",
       "        facets_iframe.contentWindow.document.write(facets_html);\n",
       "         facets_iframe.id = \"\";\n",
       "         setTimeout(() => {\n",
       "           facets_iframe.setAttribute('height', facets_iframe.contentWindow.document.body.offsetHeight + 'px')\n",
       "         }, 1500)\n",
       "         </script>"
      ],
      "text/plain": [
       "<IPython.core.display.HTML object>"
      ]
     },
     "metadata": {},
     "output_type": "display_data"
    },
    {
     "name": "stdout",
     "output_type": "stream",
     "text": [
      "Train fname: 14_Door - garage - window - disaster mitigation (Right images) - Cartagena_t.tfrecord\n",
      "Test  fname: 13_Door - garage - window - disaster mitigation (Left images) - Cartagena_t.tfrecord\n"
     ]
    },
    {
     "data": {
      "text/html": [
       "<iframe id='facets-iframe' width=\"100%\" height=\"500px\"></iframe>\n",
       "        <script>\n",
       "        facets_iframe = document.getElementById('facets-iframe');\n",
       "        facets_html = '<link rel=\"import\" href=\"https://raw.githubusercontent.com/PAIR-code/facets/master/facets-dist/facets-jupyter.html\"><facets-overview proto-input=\"CqcECgVUcmFpbhCDDhqaBAoXaW1hZ2Uvb2JqZWN0L2NsYXNzL3RleHQQAiL8Awq2AgiDDhgBIBktaA6JQDKkAhobCQAAAAAAAPA/EQAAAAAAAPA/IQAAAAAAcGZAGhsJAAAAAAAA8D8RAAAAAAAAAEAhAAAAAABwZkAaGwkAAAAAAAAAQBEAAAAAAAAAQCEAAAAAAHBmQBobCQAAAAAAAABAEQAAAAAAAAhAIQAAAAAAcGZAGhsJAAAAAAAACEARAAAAAAAAEEAhAAAAAABwZkAaGwkAAAAAAAAQQBEAAAAAAAAQQCEAAAAAAHBmQBobCQAAAAAAABBAEQAAAAAAABRAIQAAAAAAcGZAGhsJAAAAAAAAFEARAAAAAAAAGEAhAAAAAABwZkAaGwkAAAAAAAAYQBEAAAAAAAAgQCEAAAAAAHBmQBobCQAAAAAAACBAEQAAAAAAADlAIQAAAAAAcGZAIAFAiDwQBBoREgZ3aW5kb3cZAAAAAADBskAaDxIEZG9vchkAAAAAALieQBoREgZnYXJhZ2UZAAAAAAC4g0AaHhITZGlzYXN0ZXJfbWl0aWdhdGlvbhkAAAAAACByQCVhU79AKmMKESIGd2luZG93KQAAAAAAwbJAChMIARABIgRkb29yKQAAAAAAuJ5AChUIAhACIgZnYXJhZ2UpAAAAAAC4g0AKIggDEAMiE2Rpc2FzdGVyX21pdGlnYXRpb24pAAAAAAAgckAKqgQKCFZhbGlkYXRlEOsJGpoEChdpbWFnZS9vYmplY3QvY2xhc3MvdGV4dBACIvwDCrYCCOsJGAEgDy0ZyWlAMqQCGhsJAAAAAAAA8D8RAAAAAAAA8D8hmpmZmZl5X0AaGwkAAAAAAADwPxEAAAAAAAAAQCGamZmZmXlfQBobCQAAAAAAAABAEQAAAAAAAABAIZqZmZmZeV9AGhsJAAAAAAAAAEARAAAAAAAACEAhmpmZmZl5X0AaGwkAAAAAAAAIQBEAAAAAAAAIQCGamZmZmXlfQBobCQAAAAAAAAhAEQAAAAAAABBAIZqZmZmZeV9AGhsJAAAAAAAAEEARAAAAAAAAEEAhmpmZmZl5X0AaGwkAAAAAAAAQQBEAAAAAAAAUQCGamZmZmXlfQBobCQAAAAAAABRAEQAAAAAAABxAIZqZmZmZeV9AGhsJAAAAAAAAHEARAAAAAAAALkAhmpmZmZl5X0AgAUD3IxAEGhESBndpbmRvdxkAAAAAAGiiQBoPEgRkb29yGQAAAAAA9JlAGhESBmdhcmFnZRkAAAAAAAB4QBoeEhNkaXNhc3Rlcl9taXRpZ2F0aW9uGQAAAAAAwGhAJZ/LukAqYwoRIgZ3aW5kb3cpAAAAAABookAKEwgBEAEiBGRvb3IpAAAAAAD0mUAKFQgCEAIiBmdhcmFnZSkAAAAAAAB4QAoiCAMQAyITZGlzYXN0ZXJfbWl0aWdhdGlvbikAAAAAAMBoQA==\"></facets-overview>';\n",
       "        facets_iframe.contentWindow.document.write(facets_html);\n",
       "         facets_iframe.id = \"\";\n",
       "         setTimeout(() => {\n",
       "           facets_iframe.setAttribute('height', facets_iframe.contentWindow.document.body.offsetHeight + 'px')\n",
       "         }, 1500)\n",
       "         </script>"
      ],
      "text/plain": [
       "<IPython.core.display.HTML object>"
      ]
     },
     "metadata": {},
     "output_type": "display_data"
    },
    {
     "name": "stdout",
     "output_type": "stream",
     "text": [
      "Train fname: 19_Door - garage - window - disaster mitigation (Left images) - Neiva.tfrecord\n",
      "Test  fname: 20_Door - garage - window - disaster mitigation (Right images) - Neiva.tfrecord\n"
     ]
    },
    {
     "data": {
      "text/html": [
       "<iframe id='facets-iframe' width=\"100%\" height=\"500px\"></iframe>\n",
       "        <script>\n",
       "        facets_iframe = document.getElementById('facets-iframe');\n",
       "        facets_html = '<link rel=\"import\" href=\"https://raw.githubusercontent.com/PAIR-code/facets/master/facets-dist/facets-jupyter.html\"><facets-overview proto-input=\"CqcECgVUcmFpbhDcERqaBAoXaW1hZ2Uvb2JqZWN0L2NsYXNzL3RleHQQAiL8Awq2AgjcERgBICQtAfKIQDKkAhobCQAAAAAAAPA/EQAAAAAAAPA/IZqZmZmZWWxAGhsJAAAAAAAA8D8RAAAAAAAAAEAhmpmZmZlZbEAaGwkAAAAAAAAAQBEAAAAAAAAAQCGamZmZmVlsQBobCQAAAAAAAABAEQAAAAAAAAhAIZqZmZmZWWxAGhsJAAAAAAAACEARAAAAAAAAEEAhmpmZmZlZbEAaGwkAAAAAAAAQQBEAAAAAAAAQQCGamZmZmVlsQBobCQAAAAAAABBAEQAAAAAAABRAIZqZmZmZWWxAGhsJAAAAAAAAFEARAAAAAAAAGEAhmpmZmZlZbEAaGwkAAAAAAAAYQBEAAAAAAAAgQCGamZmZmVlsQBobCQAAAAAAACBAEQAAAAAAAEJAIZqZmZmZWWxAIAFA6ksQBBoREgZ3aW5kb3cZAAAAAABft0AaDxIEZG9vchkAAAAAAO6jQBoREgZnYXJhZ2UZAAAAAACskEAaHhITZGlzYXN0ZXJfbWl0aWdhdGlvbhkAAAAAAEBaQCXrrbNAKmMKESIGd2luZG93KQAAAAAAX7dAChMIARABIgRkb29yKQAAAAAA7qNAChUIAhACIgZnYXJhZ2UpAAAAAACskEAKIggDEAMiE2Rpc2FzdGVyX21pdGlnYXRpb24pAAAAAABAWkAKqgQKCFZhbGlkYXRlEIUKGpoEChdpbWFnZS9vYmplY3QvY2xhc3MvdGV4dBACIvwDCrYCCIUKGAEgDi1foV5AMqQCGhsJAAAAAAAA8D8RAAAAAAAA8D8hAAAAAAAQYEAaGwkAAAAAAADwPxEAAAAAAAAAQCEAAAAAABBgQBobCQAAAAAAAABAEQAAAAAAAABAIQAAAAAAEGBAGhsJAAAAAAAAAEARAAAAAAAACEAhAAAAAAAQYEAaGwkAAAAAAAAIQBEAAAAAAAAIQCEAAAAAABBgQBobCQAAAAAAAAhAEQAAAAAAABBAIQAAAAAAEGBAGhsJAAAAAAAAEEARAAAAAAAAEEAhAAAAAAAQYEAaGwkAAAAAAAAQQBEAAAAAAAAUQCEAAAAAABBgQBobCQAAAAAAABRAEQAAAAAAABhAIQAAAAAAEGBAGhsJAAAAAAAAGEARAAAAAAAALEAhAAAAAAAQYEAgAUD2IhAEGhESBndpbmRvdxkAAAAAAEyjQBoPEgRkb29yGQAAAAAAAJFAGhESBmdhcmFnZRkAAAAAADiKQBoeEhNkaXNhc3Rlcl9taXRpZ2F0aW9uGQAAAAAAQFJAJVM3t0AqYwoRIgZ3aW5kb3cpAAAAAABMo0AKEwgBEAEiBGRvb3IpAAAAAAAAkUAKFQgCEAIiBmdhcmFnZSkAAAAAADiKQAoiCAMQAyITZGlzYXN0ZXJfbWl0aWdhdGlvbikAAAAAAEBSQA==\"></facets-overview>';\n",
       "        facets_iframe.contentWindow.document.write(facets_html);\n",
       "         facets_iframe.id = \"\";\n",
       "         setTimeout(() => {\n",
       "           facets_iframe.setAttribute('height', facets_iframe.contentWindow.document.body.offsetHeight + 'px')\n",
       "         }, 1500)\n",
       "         </script>"
      ],
      "text/plain": [
       "<IPython.core.display.HTML object>"
      ]
     },
     "metadata": {},
     "output_type": "display_data"
    },
    {
     "name": "stdout",
     "output_type": "stream",
     "text": [
      "Train fname: 10_Door - garage - window - disaster mitigation (Left images) - St. Maarten.tfrecord\n",
      "Test  fname: 23_Door - garage - window - disaster mitigation (Right images) - St. Maarten.tfrecord\n"
     ]
    },
    {
     "data": {
      "text/html": [
       "<iframe id='facets-iframe' width=\"100%\" height=\"500px\"></iframe>\n",
       "        <script>\n",
       "        facets_iframe = document.getElementById('facets-iframe');\n",
       "        facets_html = '<link rel=\"import\" href=\"https://raw.githubusercontent.com/PAIR-code/facets/master/facets-dist/facets-jupyter.html\"><facets-overview proto-input=\"CqcECgVUcmFpbhDaEhqaBAoXaW1hZ2Uvb2JqZWN0L2NsYXNzL3RleHQQAiL8Awq2AgjaEhgBICgt/kx4QDKkAhobCQAAAAAAAPA/EQAAAAAAAPA/Ic3MzMzM7G1AGhsJAAAAAAAA8D8RAAAAAAAA8D8hzczMzMzsbUAaGwkAAAAAAADwPxEAAAAAAAAAQCHNzMzMzOxtQBobCQAAAAAAAABAEQAAAAAAAABAIc3MzMzM7G1AGhsJAAAAAAAAAEARAAAAAAAACEAhzczMzMzsbUAaGwkAAAAAAAAIQBEAAAAAAAAIQCHNzMzMzOxtQBobCQAAAAAAAAhAEQAAAAAAABBAIc3MzMzM7G1AGhsJAAAAAAAAEEARAAAAAAAAFEAhzczMzMzsbUAaGwkAAAAAAAAUQBEAAAAAAAAcQCHNzMzMzOxtQBobCQAAAAAAABxAEQAAAAAAAERAIc3MzMzM7G1AIAFAyEgQBBoREgZ3aW5kb3cZAAAAAAAEvkAaDxIEZG9vchkAAAAAALCOQBoREgZnYXJhZ2UZAAAAAABAf0AaHhITZGlzYXN0ZXJfbWl0aWdhdGlvbhkAAAAAAIBeQCWbsr5AKmMKESIGd2luZG93KQAAAAAABL5AChMIARABIgRkb29yKQAAAAAAsI5AChUIAhACIgZnYXJhZ2UpAAAAAABAf0AKIggDEAMiE2Rpc2FzdGVyX21pdGlnYXRpb24pAAAAAACAXkAKqgQKCFZhbGlkYXRlEOcJGpoEChdpbWFnZS9vYmplY3QvY2xhc3MvdGV4dBACIvwDCrYCCOcJGAEgFy2vk3RAMqQCGhsJAAAAAAAA8D8RAAAAAAAA8D8hAAAAAABgX0AaGwkAAAAAAADwPxEAAAAAAAAAQCEAAAAAAGBfQBobCQAAAAAAAABAEQAAAAAAAABAIQAAAAAAYF9AGhsJAAAAAAAAAEARAAAAAAAAAEAhAAAAAABgX0AaGwkAAAAAAAAAQBEAAAAAAAAIQCEAAAAAAGBfQBobCQAAAAAAAAhAEQAAAAAAAAhAIQAAAAAAYF9AGhsJAAAAAAAACEARAAAAAAAAEEAhAAAAAABgX0AaGwkAAAAAAAAQQBEAAAAAAAAUQCEAAAAAAGBfQBobCQAAAAAAABRAEQAAAAAAACBAIQAAAAAAYF9AGhsJAAAAAAAAIEARAAAAAAAAN0AhAAAAAABgX0AgAUC8JRAEGhESBndpbmRvdxkAAAAAANCtQBoPEgRkb29yGQAAAAAA4IFAGhESBmdhcmFnZRkAAAAAAEB2QBoeEhNkaXNhc3Rlcl9taXRpZ2F0aW9uGQAAAAAAAEpAJZ3gvEAqYwoRIgZ3aW5kb3cpAAAAAADQrUAKEwgBEAEiBGRvb3IpAAAAAADggUAKFQgCEAIiBmdhcmFnZSkAAAAAAEB2QAoiCAMQAyITZGlzYXN0ZXJfbWl0aWdhdGlvbikAAAAAAABKQA==\"></facets-overview>';\n",
       "        facets_iframe.contentWindow.document.write(facets_html);\n",
       "         facets_iframe.id = \"\";\n",
       "         setTimeout(() => {\n",
       "           facets_iframe.setAttribute('height', facets_iframe.contentWindow.document.body.offsetHeight + 'px')\n",
       "         }, 1500)\n",
       "         </script>"
      ],
      "text/plain": [
       "<IPython.core.display.HTML object>"
      ]
     },
     "metadata": {},
     "output_type": "display_data"
    }
   ],
   "source": [
    "print('Building Parts Analysis\\n')\n",
    "\n",
    "# Visualize train and val data with TFDV\n",
    "for ind in range(len(TTP['parts']['train_fnames'])):\n",
    "\n",
    "    print(f'Train fname: {TTP[\"parts\"][\"train_fnames\"][ind]}')\n",
    "    print(f'Test  fname: {TTP[\"parts\"][\"val_fnames\"][ind]}')\n",
    "          \n",
    "    temp = tfdv.visualize_statistics(stats_dict_parts['train'][ind], \n",
    "                              stats_dict_parts['val'][ind],\n",
    "                              lhs_name='Train', \n",
    "                              rhs_name='Validate')"
   ]
  },
  {
   "cell_type": "markdown",
   "metadata": {},
   "source": [
    "### Building Properties"
   ]
  },
  {
   "cell_type": "code",
   "execution_count": 4,
   "metadata": {},
   "outputs": [
    {
     "name": "stdout",
     "output_type": "stream",
     "text": [
      "\n",
      "Set: train\n",
      "Analyzing 1_Building classification (Left images) - Lima.tfrecord\n",
      "Analyzing 9_Building classification (Left images) - St. Maarten.tfrecord\n",
      "Analyzing 24_Building classification (Left images) - St. Maarten.tfrecord\n",
      "Analyzing 15_Building classification (Left images) - Cartagena_t.tfrecord\n",
      "Analyzing 21_Building classification (Left images) - Neiva.tfrecord\n",
      "\n",
      "Set: val\n",
      "Analyzing 3_Building classification (Right images) - Lima.tfrecord\n",
      "Analyzing 11_Building classification (Right images) - St. Maarten.tfrecord\n",
      "Analyzing 16_Building classification (Right images) - Cartagena_t.tfrecord\n",
      "Analyzing 22_Building classification (Right images) - Neiva.tfrecord\n"
     ]
    }
   ],
   "source": [
    "stats_dict_properties = dict(train=[], val=[])\n",
    "\n",
    "# Loop over train/val datasets\n",
    "for set_name in stats_dict_properties.keys():\n",
    "    set_full_key = f'{set_name}_fnames'\n",
    "    print(f'\\nSet: {set_name}')\n",
    "    \n",
    "    # Loop over each TFRecord filename\n",
    "    for tfrecord_fname in TTP['properties'][set_full_key]:\n",
    "        print(f'Analyzing {tfrecord_fname}')\n",
    "\n",
    "        tf_record_fpath = op.join(TTP['tfrecord_dir'], tfrecord_fname)\n",
    "        \n",
    "        # Compute and store stats\n",
    "        stats = tfdv.generate_statistics_from_tfrecord(data_location=tf_record_fpath, stats_options=stats_options)\n",
    "        stats_dict_properties[set_name].append(stats)"
   ]
  },
  {
   "cell_type": "code",
   "execution_count": 5,
   "metadata": {},
   "outputs": [
    {
     "name": "stdout",
     "output_type": "stream",
     "text": [
      "Building Properties Analysis\n",
      "\n",
      "Train fname: 1_Building classification (Left images) - Lima.tfrecord\n",
      "Test  fname: 3_Building classification (Right images) - Lima.tfrecord\n"
     ]
    },
    {
     "data": {
      "text/html": [
       "<iframe id='facets-iframe' width=\"100%\" height=\"500px\"></iframe>\n",
       "        <script>\n",
       "        facets_iframe = document.getElementById('facets-iframe');\n",
       "        facets_html = '<link rel=\"import\" href=\"https://raw.githubusercontent.com/PAIR-code/facets/master/facets-dist/facets-jupyter.html\"><facets-overview proto-input=\"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\"></facets-overview>';\n",
       "        facets_iframe.contentWindow.document.write(facets_html);\n",
       "         facets_iframe.id = \"\";\n",
       "         setTimeout(() => {\n",
       "           facets_iframe.setAttribute('height', facets_iframe.contentWindow.document.body.offsetHeight + 'px')\n",
       "         }, 1500)\n",
       "         </script>"
      ],
      "text/plain": [
       "<IPython.core.display.HTML object>"
      ]
     },
     "metadata": {},
     "output_type": "display_data"
    },
    {
     "name": "stdout",
     "output_type": "stream",
     "text": [
      "Train fname: 9_Building classification (Left images) - St. Maarten.tfrecord\n",
      "Test  fname: 11_Building classification (Right images) - St. Maarten.tfrecord\n"
     ]
    },
    {
     "data": {
      "text/html": [
       "<iframe id='facets-iframe' width=\"100%\" height=\"500px\"></iframe>\n",
       "        <script>\n",
       "        facets_iframe = document.getElementById('facets-iframe');\n",
       "        facets_html = '<link rel=\"import\" href=\"https://raw.githubusercontent.com/PAIR-code/facets/master/facets-dist/facets-jupyter.html\"><facets-overview proto-input=\"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\"></facets-overview>';\n",
       "        facets_iframe.contentWindow.document.write(facets_html);\n",
       "         facets_iframe.id = \"\";\n",
       "         setTimeout(() => {\n",
       "           facets_iframe.setAttribute('height', facets_iframe.contentWindow.document.body.offsetHeight + 'px')\n",
       "         }, 1500)\n",
       "         </script>"
      ],
      "text/plain": [
       "<IPython.core.display.HTML object>"
      ]
     },
     "metadata": {},
     "output_type": "display_data"
    },
    {
     "name": "stdout",
     "output_type": "stream",
     "text": [
      "Train fname: 24_Building classification (Left images) - St. Maarten.tfrecord\n",
      "Test  fname: 16_Building classification (Right images) - Cartagena_t.tfrecord\n"
     ]
    },
    {
     "data": {
      "text/html": [
       "<iframe id='facets-iframe' width=\"100%\" height=\"500px\"></iframe>\n",
       "        <script>\n",
       "        facets_iframe = document.getElementById('facets-iframe');\n",
       "        facets_html = '<link rel=\"import\" href=\"https://raw.githubusercontent.com/PAIR-code/facets/master/facets-dist/facets-jupyter.html\"><facets-overview proto-input=\"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\"></facets-overview>';\n",
       "        facets_iframe.contentWindow.document.write(facets_html);\n",
       "         facets_iframe.id = \"\";\n",
       "         setTimeout(() => {\n",
       "           facets_iframe.setAttribute('height', facets_iframe.contentWindow.document.body.offsetHeight + 'px')\n",
       "         }, 1500)\n",
       "         </script>"
      ],
      "text/plain": [
       "<IPython.core.display.HTML object>"
      ]
     },
     "metadata": {},
     "output_type": "display_data"
    },
    {
     "name": "stdout",
     "output_type": "stream",
     "text": [
      "Train fname: 15_Building classification (Left images) - Cartagena_t.tfrecord\n",
      "Test  fname: 22_Building classification (Right images) - Neiva.tfrecord\n"
     ]
    },
    {
     "data": {
      "text/html": [
       "<iframe id='facets-iframe' width=\"100%\" height=\"500px\"></iframe>\n",
       "        <script>\n",
       "        facets_iframe = document.getElementById('facets-iframe');\n",
       "        facets_html = '<link rel=\"import\" href=\"https://raw.githubusercontent.com/PAIR-code/facets/master/facets-dist/facets-jupyter.html\"><facets-overview proto-input=\"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\"></facets-overview>';\n",
       "        facets_iframe.contentWindow.document.write(facets_html);\n",
       "         facets_iframe.id = \"\";\n",
       "         setTimeout(() => {\n",
       "           facets_iframe.setAttribute('height', facets_iframe.contentWindow.document.body.offsetHeight + 'px')\n",
       "         }, 1500)\n",
       "         </script>"
      ],
      "text/plain": [
       "<IPython.core.display.HTML object>"
      ]
     },
     "metadata": {},
     "output_type": "display_data"
    },
    {
     "name": "stdout",
     "output_type": "stream",
     "text": [
      "Train fname: 21_Building classification (Left images) - Neiva.tfrecord\n"
     ]
    },
    {
     "ename": "IndexError",
     "evalue": "list index out of range",
     "output_type": "error",
     "traceback": [
      "\u001b[0;31m---------------------------------------------------------------------------\u001b[0m",
      "\u001b[0;31mIndexError\u001b[0m                                Traceback (most recent call last)",
      "\u001b[0;32m<ipython-input-5-a22e740dc3f6>\u001b[0m in \u001b[0;36m<module>\u001b[0;34m\u001b[0m\n\u001b[1;32m      5\u001b[0m \u001b[0;34m\u001b[0m\u001b[0m\n\u001b[1;32m      6\u001b[0m     \u001b[0mprint\u001b[0m\u001b[0;34m(\u001b[0m\u001b[0;34mf'Train fname: {TTP[\"properties\"][\"train_fnames\"][ind]}'\u001b[0m\u001b[0;34m)\u001b[0m\u001b[0;34m\u001b[0m\u001b[0m\n\u001b[0;32m----> 7\u001b[0;31m     \u001b[0mprint\u001b[0m\u001b[0;34m(\u001b[0m\u001b[0;34mf'Test  fname: {TTP[\"properties\"][\"val_fnames\"][ind]}'\u001b[0m\u001b[0;34m)\u001b[0m\u001b[0;34m\u001b[0m\u001b[0m\n\u001b[0m\u001b[1;32m      8\u001b[0m \u001b[0;34m\u001b[0m\u001b[0m\n\u001b[1;32m      9\u001b[0m     temp = tfdv.visualize_statistics(stats_dict_properties['train'][ind], \n",
      "\u001b[0;31mIndexError\u001b[0m: list index out of range"
     ]
    }
   ],
   "source": [
    "print('Building Properties Analysis\\n')\n",
    "\n",
    "# Visualize train and val data with TFDV\n",
    "for ind in range(len(TTP['properties']['train_fnames'])):\n",
    "\n",
    "    print(f'Train fname: {TTP[\"properties\"][\"train_fnames\"][ind]}')\n",
    "    print(f'Test  fname: {TTP[\"properties\"][\"val_fnames\"][ind]}')\n",
    "          \n",
    "    temp = tfdv.visualize_statistics(stats_dict_properties['train'][ind], \n",
    "                              stats_dict_properties['val'][ind],\n",
    "                              lhs_name='Train', \n",
    "                              rhs_name='Validate')"
   ]
  },
  {
   "cell_type": "markdown",
   "metadata": {},
   "source": [
    "## Mexico validation-only data\n",
    "\n",
    "Here, we'll analyze some data from Mexico that will be used to test the generalization of the ML model. The datasets are relatively small and not intended to be used for training."
   ]
  },
  {
   "cell_type": "markdown",
   "metadata": {},
   "source": [
    "### Building Parts"
   ]
  },
  {
   "cell_type": "code",
   "execution_count": 6,
   "metadata": {},
   "outputs": [
    {
     "name": "stdout",
     "output_type": "stream",
     "text": [
      "Analyzing 33_Door - garage - window - disaster mitigation (Left images) - Salina Cruz - Mexico.tfrecord\n",
      "Analyzing 39_Door - garage - window - disaster mitigation (Left images) - Juchitan - Mexico.tfrecord\n",
      "Analyzing 41_Door - garage - window - disaster mitigation (Right images) - Juchitan - Mexico.tfrecord\n",
      "Mexico Properties Analysis\n",
      "\n",
      "Test fname: 33_Door - garage - window - disaster mitigation (Left images) - Salina Cruz - Mexico.tfrecord\n"
     ]
    },
    {
     "data": {
      "text/html": [
       "<iframe id='facets-iframe' width=\"100%\" height=\"500px\"></iframe>\n",
       "        <script>\n",
       "        facets_iframe = document.getElementById('facets-iframe');\n",
       "        facets_html = '<link rel=\"import\" href=\"https://raw.githubusercontent.com/PAIR-code/facets/master/facets-dist/facets-jupyter.html\"><facets-overview proto-input=\"CqoECghWYWxpZGF0ZRDBChqaBAoXaW1hZ2Uvb2JqZWN0L2NsYXNzL3RleHQQAiL8Awq2AgjBChgBIA4tfikmQDKkAhobCQAAAAAAAPA/EQAAAAAAAPA/IQAAAAAA0GBAGhsJAAAAAAAA8D8RAAAAAAAA8D8hAAAAAADQYEAaGwkAAAAAAADwPxEAAAAAAADwPyEAAAAAANBgQBobCQAAAAAAAPA/EQAAAAAAAABAIQAAAAAA0GBAGhsJAAAAAAAAAEARAAAAAAAAAEAhAAAAAADQYEAaGwkAAAAAAAAAQBEAAAAAAAAAQCEAAAAAANBgQBobCQAAAAAAAABAEQAAAAAAAAhAIQAAAAAA0GBAGhsJAAAAAAAACEARAAAAAAAACEAhAAAAAADQYEAaGwkAAAAAAAAIQBEAAAAAAAAYQCEAAAAAANBgQBobCQAAAAAAABhAEQAAAAAAACxAIQAAAAAA0GBAIAFApBsQBBoREgZ3aW5kb3cZAAAAAACEoUAaDxIEZG9vchkAAAAAAGCFQBoREgZnYXJhZ2UZAAAAAACgfUAaHhITZGlzYXN0ZXJfbWl0aWdhdGlvbhkAAAAAAABXQCWAbL5AKmMKESIGd2luZG93KQAAAAAAhKFAChMIARABIgRkb29yKQAAAAAAYIVAChUIAhACIgZnYXJhZ2UpAAAAAACgfUAKIggDEAMiE2Rpc2FzdGVyX21pdGlnYXRpb24pAAAAAAAAV0A=\"></facets-overview>';\n",
       "        facets_iframe.contentWindow.document.write(facets_html);\n",
       "         facets_iframe.id = \"\";\n",
       "         setTimeout(() => {\n",
       "           facets_iframe.setAttribute('height', facets_iframe.contentWindow.document.body.offsetHeight + 'px')\n",
       "         }, 1500)\n",
       "         </script>"
      ],
      "text/plain": [
       "<IPython.core.display.HTML object>"
      ]
     },
     "metadata": {},
     "output_type": "display_data"
    },
    {
     "name": "stdout",
     "output_type": "stream",
     "text": [
      "Test fname: 39_Door - garage - window - disaster mitigation (Left images) - Juchitan - Mexico.tfrecord\n"
     ]
    },
    {
     "data": {
      "text/html": [
       "<iframe id='facets-iframe' width=\"100%\" height=\"500px\"></iframe>\n",
       "        <script>\n",
       "        facets_iframe = document.getElementById('facets-iframe');\n",
       "        facets_html = '<link rel=\"import\" href=\"https://raw.githubusercontent.com/PAIR-code/facets/master/facets-dist/facets-jupyter.html\"><facets-overview proto-input=\"CuYDCghWYWxpZGF0ZRCvBhrWAwoXaW1hZ2Uvb2JqZWN0L2NsYXNzL3RleHQQAiK4Awq2AgivBhgBIAst568wQDKkAhobCQAAAAAAAPA/EQAAAAAAAPA/IQAAAAAAYFRAGhsJAAAAAAAA8D8RAAAAAAAA8D8hAAAAAABgVEAaGwkAAAAAAADwPxEAAAAAAAAAQCEAAAAAAGBUQBobCQAAAAAAAABAEQAAAAAAAABAIQAAAAAAYFRAGhsJAAAAAAAAAEARAAAAAAAAAEAhAAAAAABgVEAaGwkAAAAAAAAAQBEAAAAAAAAIQCEAAAAAAGBUQBobCQAAAAAAAAhAEQAAAAAAAAhAIQAAAAAAYFRAGhsJAAAAAAAACEARAAAAAAAAEEAhAAAAAABgVEAaGwkAAAAAAAAQQBEAAAAAAAAUQCEAAAAAAGBUQBobCQAAAAAAABRAEQAAAAAAACZAIQAAAAAAYFRAIAFAyhEQAxoREgZ3aW5kb3cZAAAAAACYmUAaDxIEZG9vchkAAAAAAHB6QBoREgZnYXJhZ2UZAAAAAACgZ0Alz/ezQCo/ChEiBndpbmRvdykAAAAAAJiZQAoTCAEQASIEZG9vcikAAAAAAHB6QAoVCAIQAiIGZ2FyYWdlKQAAAAAAoGdA\"></facets-overview>';\n",
       "        facets_iframe.contentWindow.document.write(facets_html);\n",
       "         facets_iframe.id = \"\";\n",
       "         setTimeout(() => {\n",
       "           facets_iframe.setAttribute('height', facets_iframe.contentWindow.document.body.offsetHeight + 'px')\n",
       "         }, 1500)\n",
       "         </script>"
      ],
      "text/plain": [
       "<IPython.core.display.HTML object>"
      ]
     },
     "metadata": {},
     "output_type": "display_data"
    },
    {
     "name": "stdout",
     "output_type": "stream",
     "text": [
      "Test fname: 41_Door - garage - window - disaster mitigation (Right images) - Juchitan - Mexico.tfrecord\n"
     ]
    },
    {
     "data": {
      "text/html": [
       "<iframe id='facets-iframe' width=\"100%\" height=\"500px\"></iframe>\n",
       "        <script>\n",
       "        facets_iframe = document.getElementById('facets-iframe');\n",
       "        facets_html = '<link rel=\"import\" href=\"https://raw.githubusercontent.com/PAIR-code/facets/master/facets-dist/facets-jupyter.html\"><facets-overview proto-input=\"CuYDCghWYWxpZGF0ZRCoBRrWAwoXaW1hZ2Uvb2JqZWN0L2NsYXNzL3RleHQQAiK4Awq2AgioBRgBIAgtBgYWQDKkAhobCQAAAAAAAPA/EQAAAAAAAPA/IQAAAAAAAFFAGhsJAAAAAAAA8D8RAAAAAAAA8D8hAAAAAAAAUUAaGwkAAAAAAADwPxEAAAAAAADwPyEAAAAAAABRQBobCQAAAAAAAPA/EQAAAAAAAABAIQAAAAAAAFFAGhsJAAAAAAAAAEARAAAAAAAAAEAhAAAAAAAAUUAaGwkAAAAAAAAAQBEAAAAAAAAAQCEAAAAAAABRQBobCQAAAAAAAABAEQAAAAAAAAhAIQAAAAAAAFFAGhsJAAAAAAAACEARAAAAAAAACEAhAAAAAAAAUUAaGwkAAAAAAAAIQBEAAAAAAAAQQCEAAAAAAABRQBobCQAAAAAAABBAEQAAAAAAACBAIQAAAAAAAFFAIAFAugwQAxoREgZ3aW5kb3cZAAAAAACojkAaDxIEZG9vchkAAAAAALB4QBoREgZnYXJhZ2UZAAAAAABAa0Al+iOwQCo/ChEiBndpbmRvdykAAAAAAKiOQAoTCAEQASIEZG9vcikAAAAAALB4QAoVCAIQAiIGZ2FyYWdlKQAAAAAAQGtA\"></facets-overview>';\n",
       "        facets_iframe.contentWindow.document.write(facets_html);\n",
       "         facets_iframe.id = \"\";\n",
       "         setTimeout(() => {\n",
       "           facets_iframe.setAttribute('height', facets_iframe.contentWindow.document.body.offsetHeight + 'px')\n",
       "         }, 1500)\n",
       "         </script>"
      ],
      "text/plain": [
       "<IPython.core.display.HTML object>"
      ]
     },
     "metadata": {},
     "output_type": "display_data"
    }
   ],
   "source": [
    "stats_dict_parts_mexico = []\n",
    "\n",
    "# Define building part files\n",
    "tfrecord_fnames = ['33_Door - garage - window - disaster mitigation (Left images) - Salina Cruz - Mexico.tfrecord',\n",
    "                   '39_Door - garage - window - disaster mitigation (Left images) - Juchitan - Mexico.tfrecord',\n",
    "                   '41_Door - garage - window - disaster mitigation (Right images) - Juchitan - Mexico.tfrecord']\n",
    "\n",
    "# Loop over each TFRecord filename\n",
    "for tfrecord_fname in tfrecord_fnames:\n",
    "    print(f'Analyzing {tfrecord_fname}')\n",
    "\n",
    "    tf_record_fpath = op.join(TTP['tfrecord_dir'], tfrecord_fname)\n",
    "\n",
    "    # Compute and store stats\n",
    "    stats = tfdv.generate_statistics_from_tfrecord(data_location=tf_record_fpath, stats_options=stats_options)\n",
    "    stats_dict_parts_mexico.append(stats)\n",
    "    \n",
    "print('Mexico Properties Analysis\\n')\n",
    "\n",
    "# Visualize train and val data with TFDV\n",
    "for ind in range(len(tfrecord_fnames)):\n",
    "    print(f'Test fname: {tfrecord_fnames[ind]}')\n",
    "    temp = tfdv.visualize_statistics(stats_dict_parts_mexico[ind], lhs_name='Validate')"
   ]
  },
  {
   "cell_type": "markdown",
   "metadata": {},
   "source": [
    "### Building properties"
   ]
  },
  {
   "cell_type": "code",
   "execution_count": 7,
   "metadata": {},
   "outputs": [
    {
     "name": "stdout",
     "output_type": "stream",
     "text": [
      "Analyzing 35_Building classification (Left images) - Salina Cruz - Mexico.tfrecord\n",
      "Analyzing 38_Building classification (Left images) - Juchitan - Mexico.tfrecord\n",
      "Analyzing 40_Building classification (Right images) - Juchitan - Mexico.tfrecord\n",
      "Mexico Properties Analysis\n",
      "\n",
      "Test fname: 35_Building classification (Left images) - Salina Cruz - Mexico.tfrecord\n"
     ]
    },
    {
     "data": {
      "text/html": [
       "<iframe id='facets-iframe' width=\"100%\" height=\"500px\"></iframe>\n",
       "        <script>\n",
       "        facets_iframe = document.getElementById('facets-iframe');\n",
       "        facets_html = '<link rel=\"import\" href=\"https://raw.githubusercontent.com/PAIR-code/facets/master/facets-dist/facets-jupyter.html\"><facets-overview proto-input=\"CuYJCghWYWxpZGF0ZRC/FRrWCQoXaW1hZ2Uvb2JqZWN0L2NsYXNzL3RleHQQAiK4CQq3Agi/FRgFIBktYVPgQDKkAhobCQAAAAAAABRAEQAAAAAAABRAIZqZmZmZMXFAGhsJAAAAAAAAFEARAAAAAAAAFEAhmpmZmZkxcUAaGwkAAAAAAAAUQBEAAAAAAAAUQCGamZmZmTFxQBobCQAAAAAAABRAEQAAAAAAABRAIZqZmZmZMXFAGhsJAAAAAAAAFEARAAAAAAAAFEAhmpmZmZkxcUAaGwkAAAAAAAAUQBEAAAAAAAAUQCGamZmZmTFxQBobCQAAAAAAABRAEQAAAAAAABRAIZqZmZmZMXFAGhsJAAAAAAAAFEARAAAAAAAAJEAhmpmZmZkxcUAaGwkAAAAAAAAkQBEAAAAAAAAkQCGamZmZmTFxQBobCQAAAAAAACRAEQAAAAAAADlAIZqZmZmZMXFAIAFA1ZYBEBAaFBIJdW5zZWN1cmVkGQAAAAAAnqxAGhMSCGNvbXBsZXRlGQAAAAAAgqpAGhYSC3Jlc2lkZW50aWFsGQAAAAAAoKdAGhISB3BsYXN0ZXIZAAAAAADwoUAaEhIHYXZlcmFnZRkAAAAAAEShQBoPEgRwb29yGQAAAAAAhJVAGhwSEW1peC1vdGhlci11bmNsZWFyGQAAAAAA8IhAGikSHmJyaWNrX29yX2NlbWVudC1jb25jcmV0ZV9ibG9jaxkAAAAAAFCHQBoaEg9ub25fcmVzaWRlbnRpYWwZAAAAAACwf0AaFRIKaW5jb21wbGV0ZRkAAAAAAAB9QBoQEgVtaXhlZBkAAAAAAGB0QBoPEgRnb29kGQAAAAAA4HBAGhISB3NlY3VyZWQZAAAAAABAaEAaGBINd29vZF9wb2xpc2hlZBkAAAAAAAAgQBo0EilzdG9uZV93aXRoX211ZC1hc2hsYXJfd2l0aF9saW1lX29yX2NlbWVudBkAAAAAAAAUQBobEhBjb3JydWdhdGVkX21ldGFsGQAAAAAAABBAJQngF0Eq2AMKFCIJdW5zZWN1cmVkKQAAAAAAnqxAChcIARABIghjb21wbGV0ZSkAAAAAAIKqQAoaCAIQAiILcmVzaWRlbnRpYWwpAAAAAACgp0AKFggDEAMiB3BsYXN0ZXIpAAAAAADwoUAKFggEEAQiB2F2ZXJhZ2UpAAAAAABEoUAKEwgFEAUiBHBvb3IpAAAAAACElUAKIAgGEAYiEW1peC1vdGhlci11bmNsZWFyKQAAAAAA8IhACi0IBxAHIh5icmlja19vcl9jZW1lbnQtY29uY3JldGVfYmxvY2spAAAAAABQh0AKHggIEAgiD25vbl9yZXNpZGVudGlhbCkAAAAAALB/QAoZCAkQCSIKaW5jb21wbGV0ZSkAAAAAAAB9QAoUCAoQCiIFbWl4ZWQpAAAAAABgdEAKEwgLEAsiBGdvb2QpAAAAAADgcEAKFggMEAwiB3NlY3VyZWQpAAAAAABAaEAKHAgNEA0iDXdvb2RfcG9saXNoZWQpAAAAAAAAIEAKOAgOEA4iKXN0b25lX3dpdGhfbXVkLWFzaGxhcl93aXRoX2xpbWVfb3JfY2VtZW50KQAAAAAAABRACh8IDxAPIhBjb3JydWdhdGVkX21ldGFsKQAAAAAAABBA\"></facets-overview>';\n",
       "        facets_iframe.contentWindow.document.write(facets_html);\n",
       "         facets_iframe.id = \"\";\n",
       "         setTimeout(() => {\n",
       "           facets_iframe.setAttribute('height', facets_iframe.contentWindow.document.body.offsetHeight + 'px')\n",
       "         }, 1500)\n",
       "         </script>"
      ],
      "text/plain": [
       "<IPython.core.display.HTML object>"
      ]
     },
     "metadata": {},
     "output_type": "display_data"
    },
    {
     "name": "stdout",
     "output_type": "stream",
     "text": [
      "Test fname: 38_Building classification (Left images) - Juchitan - Mexico.tfrecord\n"
     ]
    },
    {
     "data": {
      "text/html": [
       "<iframe id='facets-iframe' width=\"100%\" height=\"500px\"></iframe>\n",
       "        <script>\n",
       "        facets_iframe = document.getElementById('facets-iframe');\n",
       "        facets_html = '<link rel=\"import\" href=\"https://raw.githubusercontent.com/PAIR-code/facets/master/facets-dist/facets-jupyter.html\"><facets-overview proto-input=\"CvUICghWYWxpZGF0ZRCeEBrlCAoXaW1hZ2Uvb2JqZWN0L2NsYXNzL3RleHQQAiLHCAq2AgieEBgFIA8tYm7QQDKkAhobCQAAAAAAABRAEQAAAAAAABRAIZqZmZmZ+WlAGhsJAAAAAAAAFEARAAAAAAAAFEAhmpmZmZn5aUAaGwkAAAAAAAAUQBEAAAAAAAAUQCGamZmZmflpQBobCQAAAAAAABRAEQAAAAAAABRAIZqZmZmZ+WlAGhsJAAAAAAAAFEARAAAAAAAAFEAhmpmZmZn5aUAaGwkAAAAAAAAUQBEAAAAAAAAUQCGamZmZmflpQBobCQAAAAAAABRAEQAAAAAAABRAIZqZmZmZ+WlAGhsJAAAAAAAAFEARAAAAAAAAJEAhmpmZmZn5aUAaGwkAAAAAAAAkQBEAAAAAAAAkQCGamZmZmflpQBobCQAAAAAAACRAEQAAAAAAAC5AIZqZmZmZ+WlAIAFA32kQDxoUEgl1bnNlY3VyZWQZAAAAAADSokAaFhILcmVzaWRlbnRpYWwZAAAAAABCokAaExIIY29tcGxldGUZAAAAAAAKokAaEhIHYXZlcmFnZRkAAAAAAASXQBoSEgdwbGFzdGVyGQAAAAAAxJNAGikSHmJyaWNrX29yX2NlbWVudC1jb25jcmV0ZV9ibG9jaxkAAAAAACyRQBoPEgRwb29yGQAAAAAAoJBAGhUSCmluY29tcGxldGUZAAAAAADgeEAaHBIRbWl4LW90aGVyLXVuY2xlYXIZAAAAAAAQc0AaEhIHc2VjdXJlZBkAAAAAAKByQBoQEgVtaXhlZBkAAAAAAJBxQBoPEgRnb29kGQAAAAAAQGVAGhoSD25vbl9yZXNpZGVudGlhbBkAAAAAAEBWQBobEhBjb3JydWdhdGVkX21ldGFsGQAAAAAAAEBAGhgSDXdvb2RfcG9saXNoZWQZAAAAAAAAGEAlk44iQSqeAwoUIgl1bnNlY3VyZWQpAAAAAADSokAKGggBEAEiC3Jlc2lkZW50aWFsKQAAAAAAQqJAChcIAhACIghjb21wbGV0ZSkAAAAAAAqiQAoWCAMQAyIHYXZlcmFnZSkAAAAAAASXQAoWCAQQBCIHcGxhc3RlcikAAAAAAMSTQAotCAUQBSIeYnJpY2tfb3JfY2VtZW50LWNvbmNyZXRlX2Jsb2NrKQAAAAAALJFAChMIBhAGIgRwb29yKQAAAAAAoJBAChkIBxAHIgppbmNvbXBsZXRlKQAAAAAA4HhACiAICBAIIhFtaXgtb3RoZXItdW5jbGVhcikAAAAAABBzQAoWCAkQCSIHc2VjdXJlZCkAAAAAAKByQAoUCAoQCiIFbWl4ZWQpAAAAAACQcUAKEwgLEAsiBGdvb2QpAAAAAABAZUAKHggMEAwiD25vbl9yZXNpZGVudGlhbCkAAAAAAEBWQAofCA0QDSIQY29ycnVnYXRlZF9tZXRhbCkAAAAAAABAQAocCA4QDiINd29vZF9wb2xpc2hlZCkAAAAAAAAYQA==\"></facets-overview>';\n",
       "        facets_iframe.contentWindow.document.write(facets_html);\n",
       "         facets_iframe.id = \"\";\n",
       "         setTimeout(() => {\n",
       "           facets_iframe.setAttribute('height', facets_iframe.contentWindow.document.body.offsetHeight + 'px')\n",
       "         }, 1500)\n",
       "         </script>"
      ],
      "text/plain": [
       "<IPython.core.display.HTML object>"
      ]
     },
     "metadata": {},
     "output_type": "display_data"
    },
    {
     "name": "stdout",
     "output_type": "stream",
     "text": [
      "Test fname: 40_Building classification (Right images) - Juchitan - Mexico.tfrecord\n"
     ]
    },
    {
     "data": {
      "text/html": [
       "<iframe id='facets-iframe' width=\"100%\" height=\"500px\"></iframe>\n",
       "        <script>\n",
       "        facets_iframe = document.getElementById('facets-iframe');\n",
       "        facets_html = '<link rel=\"import\" href=\"https://raw.githubusercontent.com/PAIR-code/facets/master/facets-dist/facets-jupyter.html\"><facets-overview proto-input=\"Cr0ICghWYWxpZGF0ZRCDChqtCAoXaW1hZ2Uvb2JqZWN0L2NsYXNzL3RleHQQAiKPCAq2AgiDChgFIA8tAqfJQDKkAhobCQAAAAAAABRAEQAAAAAAABRAIZqZmZmZCWBAGhsJAAAAAAAAFEARAAAAAAAAFEAhmpmZmZkJYEAaGwkAAAAAAAAUQBEAAAAAAAAUQCGamZmZmQlgQBobCQAAAAAAABRAEQAAAAAAABRAIZqZmZmZCWBAGhsJAAAAAAAAFEARAAAAAAAAFEAhmpmZmZkJYEAaGwkAAAAAAAAUQBEAAAAAAAAUQCGamZmZmQlgQBobCQAAAAAAABRAEQAAAAAAABRAIZqZmZmZCWBAGhsJAAAAAAAAFEARAAAAAAAAJEAhmpmZmZkJYEAaGwkAAAAAAAAkQBEAAAAAAAAkQCGamZmZmQlgQBobCQAAAAAAACRAEQAAAAAAAC5AIZqZmZmZCWBAIAFAlT8QDhoUEgl1bnNlY3VyZWQZAAAAAADUl0AaExIIY29tcGxldGUZAAAAAAA8l0AaFhILcmVzaWRlbnRpYWwZAAAAAABglkAaDxIEcG9vchkAAAAAAJiNQBopEh5icmlja19vcl9jZW1lbnQtY29uY3JldGVfYmxvY2sZAAAAAADIh0AaEhIHcGxhc3RlchkAAAAAAOiEQBoSEgdhdmVyYWdlGQAAAAAAsIRAGhwSEW1peC1vdGhlci11bmNsZWFyGQAAAAAAwGZAGhoSD25vbl9yZXNpZGVudGlhbBkAAAAAAGBgQBoVEgppbmNvbXBsZXRlGQAAAAAAQGBAGhISB3NlY3VyZWQZAAAAAAAAV0AaEBIFbWl4ZWQZAAAAAAAAS0AaDxIEZ29vZBkAAAAAAAAgQBobEhBjb3JydWdhdGVkX21ldGFsGQAAAAAAABRAJe6aJ0EqgAMKFCIJdW5zZWN1cmVkKQAAAAAA1JdAChcIARABIghjb21wbGV0ZSkAAAAAADyXQAoaCAIQAiILcmVzaWRlbnRpYWwpAAAAAABglkAKEwgDEAMiBHBvb3IpAAAAAACYjUAKLQgEEAQiHmJyaWNrX29yX2NlbWVudC1jb25jcmV0ZV9ibG9jaykAAAAAAMiHQAoWCAUQBSIHcGxhc3RlcikAAAAAAOiEQAoWCAYQBiIHYXZlcmFnZSkAAAAAALCEQAogCAcQByIRbWl4LW90aGVyLXVuY2xlYXIpAAAAAADAZkAKHggIEAgiD25vbl9yZXNpZGVudGlhbCkAAAAAAGBgQAoZCAkQCSIKaW5jb21wbGV0ZSkAAAAAAEBgQAoWCAoQCiIHc2VjdXJlZCkAAAAAAABXQAoUCAsQCyIFbWl4ZWQpAAAAAAAAS0AKEwgMEAwiBGdvb2QpAAAAAAAAIEAKHwgNEA0iEGNvcnJ1Z2F0ZWRfbWV0YWwpAAAAAAAAFEA=\"></facets-overview>';\n",
       "        facets_iframe.contentWindow.document.write(facets_html);\n",
       "         facets_iframe.id = \"\";\n",
       "         setTimeout(() => {\n",
       "           facets_iframe.setAttribute('height', facets_iframe.contentWindow.document.body.offsetHeight + 'px')\n",
       "         }, 1500)\n",
       "         </script>"
      ],
      "text/plain": [
       "<IPython.core.display.HTML object>"
      ]
     },
     "metadata": {},
     "output_type": "display_data"
    }
   ],
   "source": [
    "stats_dict_props_mexico = []\n",
    "\n",
    "# Define building property files\n",
    "tfrecord_fnames = ['35_Building classification (Left images) - Salina Cruz - Mexico.tfrecord',\n",
    "                   '38_Building classification (Left images) - Juchitan - Mexico.tfrecord',\n",
    "                   '40_Building classification (Right images) - Juchitan - Mexico.tfrecord']\n",
    "\n",
    "# Loop over each TFRecord filename\n",
    "for tfrecord_fname in tfrecord_fnames:\n",
    "    print(f'Analyzing {tfrecord_fname}')\n",
    "\n",
    "    tf_record_fpath = op.join(TTP['tfrecord_dir'], tfrecord_fname)\n",
    "\n",
    "    # Compute and store stats\n",
    "    stats = tfdv.generate_statistics_from_tfrecord(data_location=tf_record_fpath, stats_options=stats_options)\n",
    "    stats_dict_props_mexico.append(stats)\n",
    "    \n",
    "print('Mexico Properties Analysis\\n')\n",
    "\n",
    "# Visualize train and val data with TFDV\n",
    "for ind in range(len(tfrecord_fnames)):\n",
    "    print(f'Test fname: {tfrecord_fnames[ind]}')\n",
    "    temp = tfdv.visualize_statistics(stats_dict_props_mexico[ind], lhs_name='Validate')"
   ]
  }
 ],
 "metadata": {
  "kernelspec": {
   "display_name": "Python 3",
   "language": "python",
   "name": "python3"
  },
  "language_info": {
   "codemirror_mode": {
    "name": "ipython",
    "version": 3
   },
   "file_extension": ".py",
   "mimetype": "text/x-python",
   "name": "python",
   "nbconvert_exporter": "python",
   "pygments_lexer": "ipython3",
   "version": "3.7.0"
  }
 },
 "nbformat": 4,
 "nbformat_minor": 2
}
