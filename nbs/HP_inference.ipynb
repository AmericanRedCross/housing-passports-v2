{
 "cells": [
  {
   "cell_type": "code",
   "execution_count": null,
   "id": "0c077a03-3e20-4275-b6de-45d7b9dc3c83",
   "metadata": {},
   "outputs": [],
   "source": [
    "import sys\n",
    "sys.path.append(\"..\")"
   ]
  },
  {
   "cell_type": "code",
   "execution_count": null,
   "id": "5f77783b-3327-4508-8c30-257876c9e084",
   "metadata": {},
   "outputs": [],
   "source": [
    "import torch\n",
    "import numpy as np\n",
    "from src.datamodule import HouseDataModule\n",
    "from src.model import HPClassifier\n",
    "import matplotlib.pyplot as plt\n",
    "import torch.nn.functional as F"
   ]
  },
  {
   "cell_type": "code",
   "execution_count": null,
   "id": "9b4d2869-e19d-46e1-ac96-b82b3e123b3d",
   "metadata": {},
   "outputs": [],
   "source": [
    "dm = HouseDataModule(\n",
    "        img_dir=\"output/images_clipped_buffered/\",\n",
    "        label_file=\"data.csv\",\n",
    "        batch_size=16,\n",
    "        num_workers=1,\n",
    "    )\n",
    "dm.setup(stage=\"fit\")"
   ]
  },
  {
   "cell_type": "code",
   "execution_count": null,
   "id": "d97cf62a-3ace-4748-93e6-79d6f2fe10de",
   "metadata": {},
   "outputs": [],
   "source": [
    "dm.trn_ds.show(50)"
   ]
  },
  {
   "cell_type": "code",
   "execution_count": null,
   "id": "e3960ede-cedb-4010-a33f-3e7fb21f5365",
   "metadata": {},
   "outputs": [],
   "source": [
    "model = HPClassifier.load_from_checkpoint(\"../.aim/hp-padded/46d4794f3e584704bb9c29f9/checkpoints/epoch:9-step:380-loss:2.739.ckpt\")"
   ]
  },
  {
   "cell_type": "code",
   "execution_count": null,
   "id": "12130358-4fd1-4b03-bd23-58f8444037a4",
   "metadata": {},
   "outputs": [],
   "source": [
    "val_dl = iter(dm.val_dataloader())"
   ]
  },
  {
   "cell_type": "code",
   "execution_count": null,
   "id": "f23a3f4e-0a3e-4460-9e16-06bd05ebd292",
   "metadata": {},
   "outputs": [],
   "source": [
    "batch = next(val_dl)"
   ]
  },
  {
   "cell_type": "code",
   "execution_count": null,
   "id": "f73cac04-b0b2-4c80-9725-33ce8622ba43",
   "metadata": {},
   "outputs": [],
   "source": [
    "img, complete_idx, condition_idx, material_idx, security_idx, use_idx = batch"
   ]
  },
  {
   "cell_type": "code",
   "execution_count": null,
   "id": "96d030aa-31ef-45c4-a1cd-1dd69edfaf51",
   "metadata": {},
   "outputs": [],
   "source": [
    "complete_idx = complete_idx.detach().cpu().numpy()\n",
    "condition_idx = condition_idx.detach().cpu().numpy()\n",
    "material_idx = material_idx.detach().cpu().numpy()\n",
    "security_idx = security_idx.detach().cpu().numpy()\n",
    "use_idx = use_idx.detach().cpu().numpy()"
   ]
  },
  {
   "cell_type": "code",
   "execution_count": null,
   "id": "ec84392b-3d2c-4545-b34e-014389b92f41",
   "metadata": {},
   "outputs": [],
   "source": [
    "complete_logits, condition_logits, material_logits, security_logits, use_logits = model(img.to(model.device))"
   ]
  },
  {
   "cell_type": "code",
   "execution_count": null,
   "id": "aa4f4a55-06af-4b53-8fc2-0e29b91c6238",
   "metadata": {},
   "outputs": [],
   "source": [
    "complete_preds, condition_preds, material_preds, security_preds, use_preds = torch.argmax(complete_logits, dim=1), torch.argmax(condition_logits, dim=1), torch.argmax(material_logits, dim=1), torch.argmax(security_logits, dim=1), torch.argmax(use_logits, dim=1)"
   ]
  },
  {
   "cell_type": "code",
   "execution_count": null,
   "id": "91d77471-8baa-40de-92bb-023dd987d0a1",
   "metadata": {},
   "outputs": [],
   "source": [
    "complete_preds = complete_preds.detach().cpu().numpy()\n",
    "condition_preds = condition_preds.detach().cpu().numpy()\n",
    "material_preds = material_preds.detach().cpu().numpy()\n",
    "security_preds = security_preds.detach().cpu().numpy()\n",
    "use_preds = use_preds.detach().cpu().numpy()"
   ]
  },
  {
   "cell_type": "code",
   "execution_count": null,
   "id": "7d998c6f-9b60-4254-9d73-39adc2a8eca0",
   "metadata": {},
   "outputs": [],
   "source": [
    "fig, axs = plt.subplots(nrows=8, ncols=2, figsize=(20,40))\n",
    "for i,ax in enumerate(axs.flatten()):\n",
    "    _img = img[i]\n",
    "    _img = _img.permute(1,2,0).detach().cpu().numpy()\n",
    "    _img = _img * [0.229, 0.224, 0.225] + [0.485, 0.456, 0.406]\n",
    "    _img = np.clip(_img, 0, 1)\n",
    "    actual = \",\".join([\"A\", dm.trn_ds.rcomplete[complete_idx[i]], dm.trn_ds.rcondition[condition_idx[i]], dm.trn_ds.rmaterial[material_idx[i]], dm.trn_ds.rsecurity[security_idx[i]], dm.trn_ds.ruse[use_idx[i]]])\n",
    "    prediction = \",\".join([\"P\", dm.trn_ds.rcomplete[complete_preds[i]], dm.trn_ds.rcondition[condition_preds[i]], dm.trn_ds.rmaterial[material_preds[i]], dm.trn_ds.rsecurity[security_preds[i]], dm.trn_ds.ruse[use_preds[i]]])\n",
    "    title = actual + \"\\n\" + prediction\n",
    "    ax.imshow(_img)\n",
    "    ax.set_title(title)\n",
    "    ax.set_axis_off()"
   ]
  },
  {
   "cell_type": "markdown",
   "id": "39c316b5-297b-4e2c-b7f7-303fa570c856",
   "metadata": {},
   "source": [
    "## Look at images"
   ]
  },
  {
   "cell_type": "code",
   "execution_count": null,
   "id": "51e0dc2c-3708-41ab-814e-ed636bd5da50",
   "metadata": {},
   "outputs": [],
   "source": [
    "!ls output/images_clipped_buffered/"
   ]
  },
  {
   "cell_type": "code",
   "execution_count": null,
   "id": "c45eb5d9-ead6-4bc4-8b33-bbdcdc6e6445",
   "metadata": {},
   "outputs": [],
   "source": [
    "from pathlib import Path\n",
    "from torchvision.io import read_image\n",
    "\n",
    "height, width = list(), list()\n",
    "i = 0\n",
    "for img_path in Path(\"output\").glob(\"**/*.jpg\"):\n",
    "    img = read_image(str(img_path))\n",
    "    height.append(img.shape[1])\n",
    "    width.append(img.shape[2])\n",
    "    i += 1\n",
    "    if i > 100:\n",
    "        break"
   ]
  },
  {
   "cell_type": "code",
   "execution_count": null,
   "id": "ba746247-f29b-477f-8056-a93bbe1fa48c",
   "metadata": {},
   "outputs": [],
   "source": [
    "ratio = np.array(height)/np.array(width)"
   ]
  },
  {
   "cell_type": "code",
   "execution_count": null,
   "id": "c9553b0f-4d73-4adf-8eff-8c2ec620f6b2",
   "metadata": {},
   "outputs": [],
   "source": []
  }
 ],
 "metadata": {
  "kernelspec": {
   "display_name": "Python 3 (ipykernel)",
   "language": "python",
   "name": "python3"
  },
  "language_info": {
   "codemirror_mode": {
    "name": "ipython",
    "version": 3
   },
   "file_extension": ".py",
   "mimetype": "text/x-python",
   "name": "python",
   "nbconvert_exporter": "python",
   "pygments_lexer": "ipython3",
   "version": "3.10.13"
  }
 },
 "nbformat": 4,
 "nbformat_minor": 5
}
