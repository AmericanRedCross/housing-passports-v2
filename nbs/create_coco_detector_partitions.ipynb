{
  "nbformat": 4,
  "nbformat_minor": 0,
  "metadata": {
    "colab": {
      "provenance": []
    },
    "kernelspec": {
      "name": "python3",
      "display_name": "Python 3"
    }
  },
  "cells": [
    {
      "cell_type": "code",
      "metadata": {
        "id": "ZyAvNCJMmvFF"
      },
      "source": [
        "import os, json, cv2, random, glob\n",
        "import numpy as np\n",
        "from PIL import Image\n",
        "import pandas as pd\n",
        "import geopandas as gpd\n",
        "from sklearn.model_selection import train_test_split"
      ],
      "execution_count": 2,
      "outputs": []
    },
    {
      "cell_type": "code",
      "source": [
        "train_json = open('coco_format_12_4/project_building_properties_right-coco-1/annotations/instances_default.json')\n",
        "train_json = json.load(train_json)\n",
        "val_json = open('coco_format_12_4/project_building_properties_left-coco-1/annotations/instances_default.json')\n",
        "val_json = json.load(val_json)"
      ],
      "metadata": {
        "id": "svJRNebR8gkh"
      },
      "execution_count": 5,
      "outputs": []
    },
    {
      "cell_type": "code",
      "source": [
        "len(train_json['images']), len(val_json['images']), len(train_json['annotations']), len(val_json['annotations'])"
      ],
      "metadata": {
        "colab": {
          "base_uri": "https://localhost:8080/"
        },
        "id": "bjL2f25DMx2-",
        "outputId": "2ec328ec-871f-4b82-fc0a-7f548e097146"
      },
      "execution_count": 7,
      "outputs": [
        {
          "output_type": "execute_result",
          "data": {
            "text/plain": [
              "(13476, 13549, 5549, 6484)"
            ]
          },
          "metadata": {},
          "execution_count": 7
        }
      ]
    },
    {
      "cell_type": "code",
      "source": [
        "train_anns_df = pd.json_normalize(train_json['annotations'])\n",
        "train_images_df = pd.json_normalize(train_json['images'])\n",
        "train_images_df['image_id'] = train_images_df['id']\n",
        "train_anns_df['ann_id'] = train_anns_df['id']\n",
        "val_anns_df = pd.json_normalize(val_json['annotations'])\n",
        "val_images_df = pd.json_normalize(val_json['images'])\n",
        "val_images_df['image_id'] = val_images_df['id']\n",
        "val_anns_df['ann_id'] = val_anns_df['id']\n",
        "\n",
        "\n",
        "train_images_df['original_image_id_right'] = train_images_df['image_id'].astype(int)\n",
        "train_anns_df['original_ann_id_right'] = train_anns_df['ann_id'].astype(int)\n",
        "val_images_df['original_image_id_left'] = val_images_df['image_id'].astype(int) # Original val image id\n",
        "val_anns_df['original_ann_id_left'] = val_anns_df['ann_id'].astype(int)\n",
        "val_anns_df['original_image_id_left'] = val_anns_df['image_id'].astype(int) # Original val image id"
      ],
      "metadata": {
        "id": "hMlx_0KEFBwY"
      },
      "execution_count": 8,
      "outputs": []
    },
    {
      "cell_type": "code",
      "source": [
        "len(train_anns_df), len(val_anns_df)"
      ],
      "metadata": {
        "colab": {
          "base_uri": "https://localhost:8080/"
        },
        "id": "Y_r9rEJXHszw",
        "outputId": "5bd03104-adee-4fd6-9de3-e51fc3ca064e"
      },
      "execution_count": 9,
      "outputs": [
        {
          "output_type": "execute_result",
          "data": {
            "text/plain": [
              "(5549, 6484)"
            ]
          },
          "metadata": {},
          "execution_count": 9
        }
      ]
    },
    {
      "cell_type": "code",
      "source": [
        "train_images_df_p = train_images_df # Make a copy of right side images\n",
        "val_images_df_p = val_images_df # Make a copy of left side images"
      ],
      "metadata": {
        "id": "y6RENGx-zrez"
      },
      "execution_count": 10,
      "outputs": []
    },
    {
      "cell_type": "code",
      "source": [
        "# sort left side images\n",
        "val_images_df.sort_values(by='image_id', ascending=True)"
      ],
      "metadata": {
        "id": "nsDzzOu00xWe"
      },
      "execution_count": null,
      "outputs": []
    },
    {
      "cell_type": "code",
      "source": [
        "# Make the left side images an \"extension\" of the number of right side images\n",
        "val_images_df['id'] = val_images_df['image_id'] + train_images_df['id'].max()"
      ],
      "metadata": {
        "id": "DOjW86R20Tdo"
      },
      "execution_count": 12,
      "outputs": []
    },
    {
      "cell_type": "code",
      "source": [
        "train_anns_df_p = train_anns_df # Make a copy of right side annos\n",
        "val_anns_df_p = val_anns_df # Make a copy of left side annos"
      ],
      "metadata": {
        "id": "t_4tvtfe1P8A"
      },
      "execution_count": 13,
      "outputs": []
    },
    {
      "cell_type": "code",
      "source": [
        "# Make the left side annos an \"extension\" of the number of right side annos\n",
        "val_anns_df['id'] = val_anns_df['id'] + train_anns_df['id'].max()"
      ],
      "metadata": {
        "id": "TtgY5ALi5EN7"
      },
      "execution_count": 14,
      "outputs": []
    },
    {
      "cell_type": "code",
      "source": [
        "for idx, r in val_anns_df.iterrows():\n",
        "  old_image_id = r.image_id # This is the original left side image ID preserved and unextended\n",
        "  new_image_id = val_images_df.loc[val_images_df['original_image_id_left'] == r.image_id, 'id'] # Find the match for the extended image id in the left side images dataframe\n",
        "  val_anns_df.at[idx, 'image_id'] = new_image_id # re-assign the left side annos image id with the extended image id\n"
      ],
      "metadata": {
        "id": "WphGhSS0K2Ul"
      },
      "execution_count": 15,
      "outputs": []
    },
    {
      "cell_type": "code",
      "source": [
        "val_anns_df['attributes'] = val_anns_df['id'] # The left side label id"
      ],
      "metadata": {
        "id": "HfDS9BlCL1pw"
      },
      "execution_count": 16,
      "outputs": []
    },
    {
      "cell_type": "code",
      "source": [
        "def update_attributes(row):\n",
        "    att = {\n",
        "        'building_completeness': row['attributes.building_completeness'],\n",
        "        'building_condition': row['attributes.building_condition'],\n",
        "        'building_material': row['attributes.building_material'],\n",
        "        'building_security': row['attributes.building_security'],\n",
        "        'building_use': row['attributes.building_use'],\n",
        "        'occluded': row['attributes.occluded'],\n",
        "        'rotation': row['attributes.rotation']\n",
        "    }\n",
        "    row['attributes'] = att\n",
        "    return row"
      ],
      "metadata": {
        "id": "pIi0PfvDO3AC"
      },
      "execution_count": 17,
      "outputs": []
    },
    {
      "cell_type": "code",
      "source": [
        "# Consolidate all attributes into a single column\n",
        "val_anns_df = val_anns_df.apply(update_attributes, axis=1)\n"
      ],
      "metadata": {
        "id": "N3ZBhv07O7bm"
      },
      "execution_count": 18,
      "outputs": []
    },
    {
      "cell_type": "code",
      "source": [
        "# Remove the separated attribute columns\n",
        "val_anns_df = val_anns_df.drop(['attributes.building_completeness',\n",
        "                                    'attributes.building_condition',\n",
        "                                    'attributes.building_material',\n",
        "                                    'attributes.building_security',\n",
        "                                    'attributes.building_use',\n",
        "                                    'attributes.occluded',\n",
        "                                    'attributes.rotation'], axis=1)"
      ],
      "metadata": {
        "id": "wiVtUr1yPG4u"
      },
      "execution_count": 19,
      "outputs": []
    },
    {
      "cell_type": "code",
      "source": [
        "# Same for right side\n",
        "train_anns_df = train_anns_df.apply(update_attributes, axis=1)\n",
        "train_anns_df = train_anns_df.drop(['attributes.building_completeness',\n",
        "                                    'attributes.building_condition',\n",
        "                                    'attributes.building_material',\n",
        "                                    'attributes.building_security',\n",
        "                                    'attributes.building_use',\n",
        "                                    'attributes.occluded',\n",
        "                                    'attributes.rotation'], axis=1)"
      ],
      "metadata": {
        "id": "kq_Xmcv3PMJ3"
      },
      "execution_count": 20,
      "outputs": []
    },
    {
      "cell_type": "code",
      "source": [
        "total_df_images = pd.concat([train_images_df, val_images_df], axis=0) # combine left and right side images\n",
        "total_df_anns = pd.concat([train_anns_df, val_anns_df], axis=0) # combine left and right side annos"
      ],
      "metadata": {
        "id": "bs19gZl_549-"
      },
      "execution_count": 21,
      "outputs": []
    },
    {
      "cell_type": "code",
      "source": [
        "total_images_json_data = total_df_images.to_json(orient='records')\n",
        "with open('coco_format_12_4/project_building_properties_combined-coco-1_annotations/instances_default_images_total.json', 'w') as file:\n",
        "    file.write(total_images_json_data)\n",
        "total_anns_json_data = total_df_anns.to_json(orient='records')\n",
        "with open('coco_format_12_4/project_building_properties_combined-coco-1_annotations/instances_default_annotations_total.json', 'w') as file:\n",
        "    file.write(total_anns_json_data)"
      ],
      "metadata": {
        "id": "ztoUAqg_6g53"
      },
      "execution_count": 22,
      "outputs": []
    },
    {
      "cell_type": "code",
      "source": [
        "total_images_json_data_ = open('coco_format_12_4/project_building_properties_combined-coco-1_annotations/instances_default_images_total.json')\n",
        "total_images_ = json.load(total_images_json_data_)\n",
        "total_anns_json_data_ = open('coco_format_12_4/project_building_properties_combined-coco-1_annotations/instances_default_annotations_total.json')\n",
        "total_anns_ = json.load(total_anns_json_data_)"
      ],
      "metadata": {
        "id": "SVeULgKMQ5hW"
      },
      "execution_count": 23,
      "outputs": []
    },
    {
      "cell_type": "code",
      "source": [
        "comb_dict = {}\n",
        "comb_dict['images'] = total_images_\n",
        "comb_dict['annotations'] = total_anns_\n",
        "comb_dict['categories'] = [{'id': int(1), 'name': 'building_properties', 'supercategory': ''}]"
      ],
      "metadata": {
        "id": "X71InUWv6YVl"
      },
      "execution_count": 24,
      "outputs": []
    },
    {
      "cell_type": "code",
      "source": [
        "with open('coco_format_12_4/project_building_properties_combined-coco-1_annotations/instances_default_total.json', 'w') as file:\n",
        "    json.dump(comb_dict, file)"
      ],
      "metadata": {
        "id": "eclNArw8RNMW"
      },
      "execution_count": 25,
      "outputs": []
    },
    {
      "cell_type": "code",
      "source": [
        "total_df = total_df_anns.sample(frac=1, random_state=42) # shuffle all labels\n",
        "# Calculate the sizes for train, val, and test sets\n",
        "total_rows = len(total_df)\n",
        "train_size = int(0.7 * total_rows) # get training amount\n",
        "val_size = int(0.2 * total_rows) # get val amount\n",
        "\n",
        "# Split the DataFrame\n",
        "train_df = total_df_anns[:train_size] # Get rows up until 70%\n",
        "val_df = total_df_anns[train_size:train_size + val_size] # Get rows up between 70% and 90%\n",
        "test_df = total_df_anns[train_size + val_size:] # Get rows up between 90% and total\n",
        "\n",
        "# Check the lengths of each set\n",
        "print(\"Train size:\", len(train_df))\n",
        "print(\"Validation size:\", len(val_df))\n",
        "print(\"Test size:\", len(test_df))\n",
        "\n",
        "train_json_data = train_df.to_json(orient='records')\n",
        "with open('coco_format_12_4/project_building_properties_combined-coco-1_annotations/instances_default_annotations_train.json', 'w') as file:\n",
        "    file.write(train_json_data)\n",
        "val_json_data = val_df.to_json(orient='records')\n",
        "with open('coco_format_12_4/project_building_properties_combined-coco-1_annotations/instances_default_annotations_val.json', 'w') as file:\n",
        "    file.write(val_json_data)\n",
        "test_json_data = test_df.to_json(orient='records')\n",
        "with open('coco_format_12_4/project_building_properties_combined-coco-1_annotations/instances_default_annotations_test.json', 'w') as file:\n",
        "    file.write(test_json_data)"
      ],
      "metadata": {
        "colab": {
          "base_uri": "https://localhost:8080/"
        },
        "id": "6purp1LPjI2Z",
        "outputId": "4e2b0d47-9bb8-4697-b195-89ca8fc8224a"
      },
      "execution_count": 26,
      "outputs": [
        {
          "output_type": "stream",
          "name": "stdout",
          "text": [
            "Train size: 8423\n",
            "Validation size: 2406\n",
            "Test size: 1204\n"
          ]
        }
      ]
    },
    {
      "cell_type": "code",
      "source": [
        "train_anns_json_data_ = open('coco_format_12_4/project_building_properties_combined-coco-1_annotations/instances_default_annotations_train.json')\n",
        "train_anns_ = json.load(train_anns_json_data_)\n",
        "\n",
        "val_anns_json_data_ = open('coco_format_12_4/project_building_properties_combined-coco-1_annotations/instances_default_annotations_val.json')\n",
        "val_anns_ = json.load(val_anns_json_data_)\n",
        "\n",
        "test_anns_json_data_ = open('coco_format_12_4/project_building_properties_combined-coco-1_annotations/instances_default_annotations_test.json')\n",
        "test_anns_ = json.load(test_anns_json_data_)"
      ],
      "metadata": {
        "id": "NuBhCKq5fzTa"
      },
      "execution_count": 27,
      "outputs": []
    },
    {
      "cell_type": "code",
      "source": [
        "dict_train = {}\n",
        "dict_train['images'] = total_images_\n",
        "dict_train['annotations'] = train_anns_\n",
        "dict_train['categories'] = [{'id': int(1), 'name': 'building_properties', 'supercategory': ''}]\n",
        "\n",
        "dict_val = {}\n",
        "dict_val['images'] = total_images_\n",
        "dict_val['annotations'] = val_anns_\n",
        "dict_val['categories'] = [{'id': int(1), 'name': 'building_properties', 'supercategory': ''}]\n",
        "\n",
        "dict_test = {}\n",
        "dict_test['images'] = total_images_\n",
        "dict_test['annotations'] = test_anns_\n",
        "dict_test['categories'] = [{'id': int(1), 'name': 'building_properties', 'supercategory': ''}]"
      ],
      "metadata": {
        "id": "AyTO_Sj4enJj"
      },
      "execution_count": 28,
      "outputs": []
    },
    {
      "cell_type": "code",
      "source": [
        "with open('coco_format_12_4/project_building_properties_combined-coco-1_annotations/instances_default_train.json', 'w') as file:\n",
        "    json.dump(dict_train, file)\n",
        "\n",
        "with open('coco_format_12_4/project_building_properties_combined-coco-1_annotations/instances_default_val.json', 'w') as file:\n",
        "    json.dump(dict_val, file)\n",
        "\n",
        "with open('coco_format_12_4/project_building_properties_combined-coco-1_annotations/instances_default_test.json', 'w') as file:\n",
        "    json.dump(dict_test, file)"
      ],
      "metadata": {
        "id": "jCBKIVqYfAz9"
      },
      "execution_count": 29,
      "outputs": []
    },
    {
      "cell_type": "code",
      "source": [
        "len(dict_train['annotations']), len(dict_val['annotations']), len(dict_test['annotations'])"
      ],
      "metadata": {
        "colab": {
          "base_uri": "https://localhost:8080/"
        },
        "id": "zdR5V15TRcGh",
        "outputId": "db20ca40-1428-4724-95f4-0e953920d010"
      },
      "execution_count": 30,
      "outputs": [
        {
          "output_type": "execute_result",
          "data": {
            "text/plain": [
              "(8423, 2406, 1204)"
            ]
          },
          "metadata": {},
          "execution_count": 30
        }
      ]
    }
  ]
}