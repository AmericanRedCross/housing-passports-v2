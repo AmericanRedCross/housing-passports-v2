{
 "cells": [
  {
   "cell_type": "markdown",
   "metadata": {},
   "source": [
    "### Inference\n",
    "\n",
    "This Python script performs object detection and classification on images using Detectron2 and a custom classification model. It loads a pre-trained object detection model, detects objects in images, clips the detected regions, and then classifies the clipped regions using a separate classification model. The results are saved to CSV files.\n",
    "\n",
    "#### Components\n",
    "\n",
    "- **load_configuration**: Function to load configuration options from a YAML file.\n",
    "- **clip_image_around_bbox_buffer**: Function to clip an image around a bounding box with a buffer.\n",
    "- **load_classification_model**: Function to load a classification model from a checkpoint file.\n",
    "- **evaluate_classification_model**: Function to evaluate a classification model on an image.\n",
    "- **main**: Main function for object detection and classification.\n",
    "\n",
    "#### Usage\n",
    "\n",
    "To run the script `detect_classify_clip.py`, execute it from the command line with the following arguments:\n",
    "\n",
    "1. **images_dir**: Directory containing dataset images.\n",
    "2. **detector_cpkt_path**: Path to the object detection model checkpoint file.\n",
    "3. **classification_ckpt_path**: Path to the classification model checkpoint file.\n",
    "4. **output_dir**: Directory to save output files.\n",
    "\n",
    "Example command:\n",
    "\n",
    "```bash\n",
    "python detect_classify_clip.py images/ detector_model.pth classification_model.pth output/\n",
    "```"
   ]
  }
 ],
 "metadata": {
  "language_info": {
   "name": "python"
  }
 },
 "nbformat": 4,
 "nbformat_minor": 2
}
